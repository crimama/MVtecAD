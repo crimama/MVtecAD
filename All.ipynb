{
 "cells": [
  {
   "cell_type": "code",
   "execution_count": 1,
   "metadata": {},
   "outputs": [],
   "source": [
    "\n",
    "import os \n",
    "import warnings \n",
    "warnings.filterwarnings('ignore')\n",
    "from tqdm import tqdm \n",
    "import numpy as np \n",
    "import cv2 \n",
    "from sklearn.metrics import roc_curve, auc \n",
    "import matplotlib.pyplot as plt \n",
    "import torch \n",
    "import torch.nn as nn \n",
    "import torch.nn.functional as F \n",
    "from torch.utils.data import DataLoader \n",
    "from torchvision import transforms \n",
    "from IPython.display import clear_output\n",
    "\n",
    "from src import DataInit,MVtecADDataset\n",
    "from glob import glob "
   ]
  },
  {
   "cell_type": "code",
   "execution_count": 7,
   "metadata": {},
   "outputs": [
    {
     "data": {
      "text/plain": [
       "['./Dataset/carpet/readme.txt',\n",
       " './Dataset/carpet/train',\n",
       " './Dataset/carpet/license.txt',\n",
       " './Dataset/carpet/test',\n",
       " './Dataset/carpet/ground_truth']"
      ]
     },
     "execution_count": 7,
     "metadata": {},
     "output_type": "execute_result"
    }
   ],
   "source": [
    "root = './Dataset'\n",
    "import pandas as pd \n",
    "category_name = pd.Series(glob(f'{root}/*')).apply(lambda x : x.split('/')[-1])\n",
    "\n",
    "i = 0 \n",
    "category = category_name[i]\n",
    "glob(f'{root}/{category}/*')\n"
   ]
  },
  {
   "cell_type": "code",
   "execution_count": 52,
   "metadata": {},
   "outputs": [],
   "source": [
    "df = pd.DataFrame(np.array(glob(f'{root}/*/*/*/*.png')))\n",
    "df = pd.DataFrame(list(df[0].str.split('/').str)[1:]).T\n",
    "df.columns = ['root','category','type','type2','name']"
   ]
  },
  {
   "cell_type": "code",
   "execution_count": 69,
   "metadata": {},
   "outputs": [],
   "source": [
    "train_df = df[df['type'] == 'train']\n",
    "test_df = df[df['type'] == 'test']"
   ]
  },
  {
   "cell_type": "code",
   "execution_count": 70,
   "metadata": {},
   "outputs": [
    {
     "data": {
      "text/html": [
       "<div>\n",
       "<style scoped>\n",
       "    .dataframe tbody tr th:only-of-type {\n",
       "        vertical-align: middle;\n",
       "    }\n",
       "\n",
       "    .dataframe tbody tr th {\n",
       "        vertical-align: top;\n",
       "    }\n",
       "\n",
       "    .dataframe thead th {\n",
       "        text-align: right;\n",
       "    }\n",
       "</style>\n",
       "<table border=\"1\" class=\"dataframe\">\n",
       "  <thead>\n",
       "    <tr style=\"text-align: right;\">\n",
       "      <th></th>\n",
       "      <th>root</th>\n",
       "      <th>category</th>\n",
       "      <th>type</th>\n",
       "      <th>type2</th>\n",
       "      <th>name</th>\n",
       "    </tr>\n",
       "  </thead>\n",
       "  <tbody>\n",
       "    <tr>\n",
       "      <th>280</th>\n",
       "      <td>Dataset</td>\n",
       "      <td>carpet</td>\n",
       "      <td>test</td>\n",
       "      <td>thread</td>\n",
       "      <td>005.png</td>\n",
       "    </tr>\n",
       "    <tr>\n",
       "      <th>281</th>\n",
       "      <td>Dataset</td>\n",
       "      <td>carpet</td>\n",
       "      <td>test</td>\n",
       "      <td>thread</td>\n",
       "      <td>011.png</td>\n",
       "    </tr>\n",
       "    <tr>\n",
       "      <th>282</th>\n",
       "      <td>Dataset</td>\n",
       "      <td>carpet</td>\n",
       "      <td>test</td>\n",
       "      <td>thread</td>\n",
       "      <td>000.png</td>\n",
       "    </tr>\n",
       "    <tr>\n",
       "      <th>283</th>\n",
       "      <td>Dataset</td>\n",
       "      <td>carpet</td>\n",
       "      <td>test</td>\n",
       "      <td>thread</td>\n",
       "      <td>003.png</td>\n",
       "    </tr>\n",
       "    <tr>\n",
       "      <th>284</th>\n",
       "      <td>Dataset</td>\n",
       "      <td>carpet</td>\n",
       "      <td>test</td>\n",
       "      <td>thread</td>\n",
       "      <td>014.png</td>\n",
       "    </tr>\n",
       "    <tr>\n",
       "      <th>...</th>\n",
       "      <td>...</td>\n",
       "      <td>...</td>\n",
       "      <td>...</td>\n",
       "      <td>...</td>\n",
       "      <td>...</td>\n",
       "    </tr>\n",
       "    <tr>\n",
       "      <th>6488</th>\n",
       "      <td>Dataset</td>\n",
       "      <td>screw</td>\n",
       "      <td>test</td>\n",
       "      <td>good</td>\n",
       "      <td>013.png</td>\n",
       "    </tr>\n",
       "    <tr>\n",
       "      <th>6489</th>\n",
       "      <td>Dataset</td>\n",
       "      <td>screw</td>\n",
       "      <td>test</td>\n",
       "      <td>good</td>\n",
       "      <td>017.png</td>\n",
       "    </tr>\n",
       "    <tr>\n",
       "      <th>6490</th>\n",
       "      <td>Dataset</td>\n",
       "      <td>screw</td>\n",
       "      <td>test</td>\n",
       "      <td>good</td>\n",
       "      <td>007.png</td>\n",
       "    </tr>\n",
       "    <tr>\n",
       "      <th>6491</th>\n",
       "      <td>Dataset</td>\n",
       "      <td>screw</td>\n",
       "      <td>test</td>\n",
       "      <td>good</td>\n",
       "      <td>012.png</td>\n",
       "    </tr>\n",
       "    <tr>\n",
       "      <th>6492</th>\n",
       "      <td>Dataset</td>\n",
       "      <td>screw</td>\n",
       "      <td>test</td>\n",
       "      <td>good</td>\n",
       "      <td>006.png</td>\n",
       "    </tr>\n",
       "  </tbody>\n",
       "</table>\n",
       "<p>1725 rows × 5 columns</p>\n",
       "</div>"
      ],
      "text/plain": [
       "         root category  type   type2     name\n",
       "280   Dataset   carpet  test  thread  005.png\n",
       "281   Dataset   carpet  test  thread  011.png\n",
       "282   Dataset   carpet  test  thread  000.png\n",
       "283   Dataset   carpet  test  thread  003.png\n",
       "284   Dataset   carpet  test  thread  014.png\n",
       "...       ...      ...   ...     ...      ...\n",
       "6488  Dataset    screw  test    good  013.png\n",
       "6489  Dataset    screw  test    good  017.png\n",
       "6490  Dataset    screw  test    good  007.png\n",
       "6491  Dataset    screw  test    good  012.png\n",
       "6492  Dataset    screw  test    good  006.png\n",
       "\n",
       "[1725 rows x 5 columns]"
      ]
     },
     "execution_count": 70,
     "metadata": {},
     "output_type": "execute_result"
    }
   ],
   "source": [
    "test_df"
   ]
  }
 ],
 "metadata": {
  "kernelspec": {
   "display_name": "Python 3.8.10 64-bit",
   "language": "python",
   "name": "python3"
  },
  "language_info": {
   "codemirror_mode": {
    "name": "ipython",
    "version": 3
   },
   "file_extension": ".py",
   "mimetype": "text/x-python",
   "name": "python",
   "nbconvert_exporter": "python",
   "pygments_lexer": "ipython3",
   "version": "3.8.10"
  },
  "orig_nbformat": 4,
  "vscode": {
   "interpreter": {
    "hash": "916dbcbb3f70747c44a77c7bcd40155683ae19c65e1c03b4aa3499c5328201f1"
   }
  }
 },
 "nbformat": 4,
 "nbformat_minor": 2
}
