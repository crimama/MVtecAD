{
 "cells": [
  {
   "cell_type": "code",
   "execution_count": 3,
   "metadata": {},
   "outputs": [],
   "source": [
    "from src.dataset import CustomDataset,data_factory\n",
    "\n",
    "from src.test import evaluation\n",
    "from torch.utils.data import DataLoader,DataLoader2\n",
    "import torch.nn as nn \n",
    "import torch.nn.functional as F \n",
    "import torch \n",
    "import torchvision.transforms as transforms \n",
    "import yaml \n",
    "from tqdm.auto import tqdm \n",
    "import numpy as np \n",
    "import random \n",
    "from tqdm import tqdm \n",
    "import matplotlib.pyplot as plt \n",
    "from accelerate import Accelerator"
   ]
  },
  {
   "cell_type": "code",
   "execution_count": 4,
   "metadata": {},
   "outputs": [],
   "source": [
    "def setup_seed(seed):\n",
    "    torch.manual_seed(seed)\n",
    "    torch.cuda.manual_seed_all(seed)\n",
    "    np.random.seed(seed)\n",
    "    random.seed(seed)\n",
    "    torch.backends.cudnn.deterministic = True\n",
    "    torch.backends.cudnn.benchmark = False\n",
    "\n",
    "cfg = yaml.load(open('./configs/mvtec/mvtec.yaml','r'), Loader=yaml.FullLoader)\n",
    "setup_seed(cfg['TRAIN']['seed'])\n",
    "\n",
    "trainloader, testloader = data_factory(cfg)"
   ]
  }
 ],
 "metadata": {
  "kernelspec": {
   "display_name": "Python 3 (ipykernel)",
   "language": "python",
   "name": "python3"
  },
  "language_info": {
   "codemirror_mode": {
    "name": "ipython",
    "version": 3
   },
   "file_extension": ".py",
   "mimetype": "text/x-python",
   "name": "python",
   "nbconvert_exporter": "python",
   "pygments_lexer": "ipython3",
   "version": "3.8.10"
  },
  "orig_nbformat": 4
 },
 "nbformat": 4,
 "nbformat_minor": 2
}
