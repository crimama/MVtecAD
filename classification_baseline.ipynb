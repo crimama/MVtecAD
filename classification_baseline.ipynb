{
 "cells": [
  {
   "cell_type": "code",
   "execution_count": 95,
   "metadata": {},
   "outputs": [],
   "source": [
    "import os \n",
    "from glob import glob \n",
    "import numpy as np \n",
    "import pandas as pd \n",
    "import matplotlib.pyplot as plt \n",
    "import torch\n",
    "import torch.nn as nn \n",
    "from torch.utils.data import Dataset,DataLoader\n",
    "import torchvision\n",
    "from torchvision import transforms as T \n",
    "import cv2 \n",
    "import torch.nn.functional as F "
   ]
  },
  {
   "cell_type": "code",
   "execution_count": 2,
   "metadata": {},
   "outputs": [],
   "source": [
    "dir_default = './data/open/'\n",
    "\n",
    "\n",
    "def file_load(dir_default):\n",
    "    dir_train_imgs = sorted(glob(os.path.join(dir_default,'train','*')))\n",
    "    dir_test_imgs = sorted(glob(os.path.join(dir_default,'test','*')))\n",
    "    train_df = pd.read_csv(os.path.join(dir_default,'train_df.csv'))\n",
    "    test_df = pd.read_csv(os.path.join(dir_default,'test_df.csv'))\n",
    "    return dir_train_imgs,dir_test_imgs,train_df, test_df "
   ]
  },
  {
   "cell_type": "code",
   "execution_count": 53,
   "metadata": {},
   "outputs": [
    {
     "data": {
      "text/plain": [
       "(4277,)"
      ]
     },
     "execution_count": 53,
     "metadata": {},
     "output_type": "execute_result"
    }
   ],
   "source": [
    "dir_train_imgs,dir_test_imgs,train_df, test_df  = file_load(dir_default)\n",
    "\n",
    "#라벨 생성 \n",
    "train_labels = train_df['label'].to_numpy()\n",
    "#라벨 인코더 \n",
    "label_encoder = {b:a for a,b in enumerate(np.unique(train_labels))}\n",
    "label_decoder = {b:a for a,b in enumerate(np.unique(train_labels))}"
   ]
  },
  {
   "cell_type": "markdown",
   "metadata": {},
   "source": [
    "# 데이터셋 "
   ]
  },
  {
   "cell_type": "code",
   "execution_count": 72,
   "metadata": {},
   "outputs": [],
   "source": [
    "class Dset(Dataset):\n",
    "    def __init__(self,dir_imgs,labels):\n",
    "        self.dir_imgs = dir_imgs \n",
    "        self.labels = labels \n",
    "        self.transform = self.transform_img()\n",
    "\n",
    "    def __len__(self):\n",
    "        return len(self.dir_imgs)\n",
    "\n",
    "    def transform_img(self,train=True):\n",
    "        if train:\n",
    "            transform = T.Compose([\n",
    "                T.ToTensor(),\n",
    "                T.Resize(256),\n",
    "                T.Normalize(\n",
    "                    mean=[0.485, 0.456, 0.406],\n",
    "                    std=[0.229, 0.224, 0.225]\n",
    "                    )\n",
    "            ])\n",
    "        return transform \n",
    "\n",
    "    def load_img(self,dir_img):\n",
    "        temp_img = cv2.imread(dir_img)\n",
    "        temp_img = self.transform(temp_img)\n",
    "        return temp_img \n",
    "\n",
    "    def __getitem__(self,idx):\n",
    "        img = self.load_img(self.dir_imgs[idx])\n",
    "        label = label_encoder[self.labels[idx]]\n",
    "        return img, label "
   ]
  },
  {
   "cell_type": "code",
   "execution_count": 73,
   "metadata": {},
   "outputs": [],
   "source": [
    "train_dset = Dset(dir_train_imgs,train_labels)\n",
    "train_loader = DataLoader(train_dset,batch_size=16,shuffle=True)\n",
    "a,b = next(iter(train_loader))\n"
   ]
  },
  {
   "cell_type": "markdown",
   "metadata": {},
   "source": [
    "# 모델 구성 "
   ]
  },
  {
   "cell_type": "code",
   "execution_count": 100,
   "metadata": {},
   "outputs": [],
   "source": [
    "class clf(nn.Module):\n",
    "    def __init__(self):\n",
    "        super(clf, self).__init__()\n",
    "        self.fc1 = nn.Sequential(\n",
    "            nn.Linear(256,128),\n",
    "            nn.Linear(128,64),\n",
    "            nn.Linear(64,2),\n",
    "            nn.Flatten(),\n",
    "            nn.Linear(1536,88)\n",
    "        )\n",
    "    def forward(self,x):\n",
    "        \n",
    "        x = self.fc1(x)\n",
    "        x = F.softmax(x,dim=0)\n",
    "        return x "
   ]
  },
  {
   "cell_type": "code",
   "execution_count": 108,
   "metadata": {},
   "outputs": [
    {
     "data": {
      "text/plain": [
       "tensor(83)"
      ]
     },
     "execution_count": 108,
     "metadata": {},
     "output_type": "execute_result"
    }
   ],
   "source": [
    "torch.argmax(model(a)[4])"
   ]
  }
 ],
 "metadata": {
  "kernelspec": {
   "display_name": "Python 3.8.10 64-bit",
   "language": "python",
   "name": "python3"
  },
  "language_info": {
   "codemirror_mode": {
    "name": "ipython",
    "version": 3
   },
   "file_extension": ".py",
   "mimetype": "text/x-python",
   "name": "python",
   "nbconvert_exporter": "python",
   "pygments_lexer": "ipython3",
   "version": "3.8.10"
  },
  "orig_nbformat": 4,
  "vscode": {
   "interpreter": {
    "hash": "916dbcbb3f70747c44a77c7bcd40155683ae19c65e1c03b4aa3499c5328201f1"
   }
  }
 },
 "nbformat": 4,
 "nbformat_minor": 2
}
